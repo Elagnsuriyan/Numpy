{
 "cells": [
  {
   "cell_type": "code",
   "execution_count": 1,
   "id": "05e8b33d-097d-43fd-97c3-f9272b461a6f",
   "metadata": {},
   "outputs": [],
   "source": [
    "import numpy as np"
   ]
  },
  {
   "cell_type": "markdown",
   "id": "e5aec9b4-ae3b-46f2-8ac5-13d0141a2675",
   "metadata": {},
   "source": [
    "## Data types and attributes"
   ]
  },
  {
   "cell_type": "code",
   "execution_count": 2,
   "id": "16414606-7658-426a-bf07-48ebcc3d3085",
   "metadata": {},
   "outputs": [
    {
     "data": {
      "text/plain": [
       "array([ 1, 10])"
      ]
     },
     "execution_count": 2,
     "metadata": {},
     "output_type": "execute_result"
    }
   ],
   "source": [
    "a1=np.array([1,10])\n",
    "a1"
   ]
  },
  {
   "cell_type": "code",
   "execution_count": 3,
   "id": "b9a03081-b9e6-4476-b469-c129d992b937",
   "metadata": {},
   "outputs": [
    {
     "data": {
      "text/plain": [
       "numpy.ndarray"
      ]
     },
     "execution_count": 3,
     "metadata": {},
     "output_type": "execute_result"
    }
   ],
   "source": [
    "type(a1)"
   ]
  },
  {
   "cell_type": "code",
   "execution_count": 4,
   "id": "50dd0907-74fa-48d0-a20a-5e20fe326444",
   "metadata": {},
   "outputs": [],
   "source": [
    "a2=np.array([[1,2,3],\n",
    "            [4,5,6]])\n",
    "a3=np.array([[[10,20,30],\n",
    "              [40,50,60],\n",
    "              [70,80,90]],\n",
    "              \n",
    "             [[11,12,13],\n",
    "             [21,22,23],\n",
    "             [31,32,33]]])"
   ]
  },
  {
   "cell_type": "code",
   "execution_count": 5,
   "id": "eed34fa4-2726-4235-8e8b-5d71284af0ce",
   "metadata": {},
   "outputs": [
    {
     "data": {
      "text/plain": [
       "array([[1, 2, 3],\n",
       "       [4, 5, 6]])"
      ]
     },
     "execution_count": 5,
     "metadata": {},
     "output_type": "execute_result"
    }
   ],
   "source": [
    "a2"
   ]
  },
  {
   "cell_type": "code",
   "execution_count": 6,
   "id": "b1282ce2-0f70-47e9-8c46-5835fb0d0076",
   "metadata": {},
   "outputs": [
    {
     "data": {
      "text/plain": [
       "numpy.ndarray"
      ]
     },
     "execution_count": 6,
     "metadata": {},
     "output_type": "execute_result"
    }
   ],
   "source": [
    "type(a3)"
   ]
  },
  {
   "cell_type": "code",
   "execution_count": 7,
   "id": "050170fb-df37-4b96-89c1-6f99e44b6f4c",
   "metadata": {},
   "outputs": [
    {
     "data": {
      "text/plain": [
       "3"
      ]
     },
     "execution_count": 7,
     "metadata": {},
     "output_type": "execute_result"
    }
   ],
   "source": [
    "a3.ndim\n",
    "# it returns the dimension of array"
   ]
  },
  {
   "cell_type": "code",
   "execution_count": 8,
   "id": "79baf020-3445-4406-830e-0f6a38a0e7d6",
   "metadata": {},
   "outputs": [
    {
     "data": {
      "text/plain": [
       "(2, 3)"
      ]
     },
     "execution_count": 8,
     "metadata": {},
     "output_type": "execute_result"
    }
   ],
   "source": [
    "a2.shape\n",
    "# it is in row * column form "
   ]
  },
  {
   "cell_type": "code",
   "execution_count": 9,
   "id": "7ed4ac64-5465-48a7-9b79-225810a6773e",
   "metadata": {},
   "outputs": [
    {
     "data": {
      "text/plain": [
       "(2, 3, 3)"
      ]
     },
     "execution_count": 9,
     "metadata": {},
     "output_type": "execute_result"
    }
   ],
   "source": [
    "a3.shape"
   ]
  },
  {
   "cell_type": "code",
   "execution_count": 10,
   "id": "f07228b4-d3b0-4dbf-af20-7cae470c7660",
   "metadata": {},
   "outputs": [],
   "source": [
    "a3.shape=(2,3,3)"
   ]
  },
  {
   "cell_type": "code",
   "execution_count": 11,
   "id": "e5ebf81e-b4de-4b04-a6c2-a642adb68db8",
   "metadata": {},
   "outputs": [
    {
     "data": {
      "text/plain": [
       "array([[[10, 20, 30],\n",
       "        [40, 50, 60],\n",
       "        [70, 80, 90]],\n",
       "\n",
       "       [[11, 12, 13],\n",
       "        [21, 22, 23],\n",
       "        [31, 32, 33]]])"
      ]
     },
     "execution_count": 11,
     "metadata": {},
     "output_type": "execute_result"
    }
   ],
   "source": [
    "a3"
   ]
  },
  {
   "cell_type": "code",
   "execution_count": 12,
   "id": "f3cf4248-0c87-4ae9-b91b-5d9e026b5ccb",
   "metadata": {},
   "outputs": [
    {
     "data": {
      "text/plain": [
       "(2, 3, 3)"
      ]
     },
     "execution_count": 12,
     "metadata": {},
     "output_type": "execute_result"
    }
   ],
   "source": [
    "a3.shape"
   ]
  },
  {
   "cell_type": "code",
   "execution_count": 13,
   "id": "3cc40a22-d6cc-4de3-b0ef-a5e38c3b3aa9",
   "metadata": {},
   "outputs": [
    {
     "data": {
      "text/plain": [
       "array([[[10, 20, 30],\n",
       "        [40, 50, 60],\n",
       "        [70, 80, 90]],\n",
       "\n",
       "       [[11, 12, 13],\n",
       "        [21, 22, 23],\n",
       "        [31, 32, 33]]])"
      ]
     },
     "execution_count": 13,
     "metadata": {},
     "output_type": "execute_result"
    }
   ],
   "source": [
    "a3.reshape((2,3,3))"
   ]
  },
  {
   "cell_type": "code",
   "execution_count": 14,
   "id": "8d90dbfd-4bae-4ef2-ba15-873d25367dbb",
   "metadata": {},
   "outputs": [
    {
     "data": {
      "text/plain": [
       "(dtype('int64'), dtype('int64'), dtype('int64'))"
      ]
     },
     "execution_count": 14,
     "metadata": {},
     "output_type": "execute_result"
    }
   ],
   "source": [
    "a1.dtype,a2.dtype,a3.dtype"
   ]
  },
  {
   "cell_type": "code",
   "execution_count": 15,
   "id": "6b1ecbb5-01a5-4ee6-90a9-1c1e9e101785",
   "metadata": {},
   "outputs": [
    {
     "data": {
      "text/plain": [
       "(2, 6, 18)"
      ]
     },
     "execution_count": 15,
     "metadata": {},
     "output_type": "execute_result"
    }
   ],
   "source": [
    "a1.size,a2.size,a3.size"
   ]
  },
  {
   "cell_type": "code",
   "execution_count": 16,
   "id": "8a7f6123-4e76-411e-8620-d557ad26f9ea",
   "metadata": {},
   "outputs": [
    {
     "data": {
      "text/plain": [
       "(numpy.ndarray, numpy.ndarray, int)"
      ]
     },
     "execution_count": 16,
     "metadata": {},
     "output_type": "execute_result"
    }
   ],
   "source": [
    "type(a1),type(a2),type(3)"
   ]
  },
  {
   "cell_type": "code",
   "execution_count": 17,
   "id": "c6457eb1-fdc7-4783-9860-5aaf1dc7f722",
   "metadata": {},
   "outputs": [],
   "source": [
    "reshape_array=a3.reshape(-1,a3.shape[-1])"
   ]
  },
  {
   "cell_type": "code",
   "execution_count": 18,
   "id": "04b6a08b-7dcd-4b20-99a5-5133fbb15508",
   "metadata": {},
   "outputs": [
    {
     "data": {
      "text/plain": [
       "array([[10, 20, 30],\n",
       "       [40, 50, 60],\n",
       "       [70, 80, 90],\n",
       "       [11, 12, 13],\n",
       "       [21, 22, 23],\n",
       "       [31, 32, 33]])"
      ]
     },
     "execution_count": 18,
     "metadata": {},
     "output_type": "execute_result"
    }
   ],
   "source": [
    "reshape_array"
   ]
  },
  {
   "cell_type": "code",
   "execution_count": 19,
   "id": "f2a85e9c-7047-41eb-aa25-6b49c4cf1dfb",
   "metadata": {},
   "outputs": [],
   "source": [
    "import pandas as pd\n",
    "df=pd.DataFrame(reshape_array)"
   ]
  },
  {
   "cell_type": "code",
   "execution_count": 20,
   "id": "a7eb3e2f-d13d-49ce-a473-3634fea47219",
   "metadata": {},
   "outputs": [
    {
     "data": {
      "text/html": [
       "<div>\n",
       "<style scoped>\n",
       "    .dataframe tbody tr th:only-of-type {\n",
       "        vertical-align: middle;\n",
       "    }\n",
       "\n",
       "    .dataframe tbody tr th {\n",
       "        vertical-align: top;\n",
       "    }\n",
       "\n",
       "    .dataframe thead th {\n",
       "        text-align: right;\n",
       "    }\n",
       "</style>\n",
       "<table border=\"1\" class=\"dataframe\">\n",
       "  <thead>\n",
       "    <tr style=\"text-align: right;\">\n",
       "      <th></th>\n",
       "      <th>0</th>\n",
       "      <th>1</th>\n",
       "      <th>2</th>\n",
       "    </tr>\n",
       "  </thead>\n",
       "  <tbody>\n",
       "    <tr>\n",
       "      <th>0</th>\n",
       "      <td>10</td>\n",
       "      <td>20</td>\n",
       "      <td>30</td>\n",
       "    </tr>\n",
       "    <tr>\n",
       "      <th>1</th>\n",
       "      <td>40</td>\n",
       "      <td>50</td>\n",
       "      <td>60</td>\n",
       "    </tr>\n",
       "    <tr>\n",
       "      <th>2</th>\n",
       "      <td>70</td>\n",
       "      <td>80</td>\n",
       "      <td>90</td>\n",
       "    </tr>\n",
       "    <tr>\n",
       "      <th>3</th>\n",
       "      <td>11</td>\n",
       "      <td>12</td>\n",
       "      <td>13</td>\n",
       "    </tr>\n",
       "    <tr>\n",
       "      <th>4</th>\n",
       "      <td>21</td>\n",
       "      <td>22</td>\n",
       "      <td>23</td>\n",
       "    </tr>\n",
       "    <tr>\n",
       "      <th>5</th>\n",
       "      <td>31</td>\n",
       "      <td>32</td>\n",
       "      <td>33</td>\n",
       "    </tr>\n",
       "  </tbody>\n",
       "</table>\n",
       "</div>"
      ],
      "text/plain": [
       "    0   1   2\n",
       "0  10  20  30\n",
       "1  40  50  60\n",
       "2  70  80  90\n",
       "3  11  12  13\n",
       "4  21  22  23\n",
       "5  31  32  33"
      ]
     },
     "execution_count": 20,
     "metadata": {},
     "output_type": "execute_result"
    }
   ],
   "source": [
    "df\n",
    "# in pandas convert array into dataframe until only 2-D not above"
   ]
  },
  {
   "cell_type": "code",
   "execution_count": 21,
   "id": "4060b9cd-176e-42b2-abf2-7e0867cf5925",
   "metadata": {},
   "outputs": [
    {
     "data": {
      "text/html": [
       "<div>\n",
       "<style scoped>\n",
       "    .dataframe tbody tr th:only-of-type {\n",
       "        vertical-align: middle;\n",
       "    }\n",
       "\n",
       "    .dataframe tbody tr th {\n",
       "        vertical-align: top;\n",
       "    }\n",
       "\n",
       "    .dataframe thead th {\n",
       "        text-align: right;\n",
       "    }\n",
       "</style>\n",
       "<table border=\"1\" class=\"dataframe\">\n",
       "  <thead>\n",
       "    <tr style=\"text-align: right;\">\n",
       "      <th></th>\n",
       "      <th>0</th>\n",
       "    </tr>\n",
       "  </thead>\n",
       "  <tbody>\n",
       "    <tr>\n",
       "      <th>0</th>\n",
       "      <td>1</td>\n",
       "    </tr>\n",
       "    <tr>\n",
       "      <th>1</th>\n",
       "      <td>10</td>\n",
       "    </tr>\n",
       "  </tbody>\n",
       "</table>\n",
       "</div>"
      ],
      "text/plain": [
       "    0\n",
       "0   1\n",
       "1  10"
      ]
     },
     "execution_count": 21,
     "metadata": {},
     "output_type": "execute_result"
    }
   ],
   "source": [
    "df_1=pd.DataFrame(a1)\n",
    "df_1"
   ]
  },
  {
   "cell_type": "markdown",
   "id": "3e12c188-b703-4b62-b2b0-289c966e0052",
   "metadata": {},
   "source": [
    "## Creating arrays"
   ]
  },
  {
   "cell_type": "code",
   "execution_count": 22,
   "id": "71feab0c-fab3-45bc-8e9c-dd8a61b66493",
   "metadata": {},
   "outputs": [
    {
     "data": {
      "text/plain": [
       "array([[1., 1., 1.],\n",
       "       [1., 1., 1.]])"
      ]
     },
     "execution_count": 22,
     "metadata": {},
     "output_type": "execute_result"
    }
   ],
   "source": [
    "ones=np.ones((2,3))\n",
    "# use shift + tab to show the functions do \n",
    "ones"
   ]
  },
  {
   "cell_type": "code",
   "execution_count": 23,
   "id": "1f841c02-fd56-4a65-be73-fa8797b4199f",
   "metadata": {},
   "outputs": [
    {
     "data": {
      "text/plain": [
       "array([[0., 0.],\n",
       "       [0., 0.]])"
      ]
     },
     "execution_count": 23,
     "metadata": {},
     "output_type": "execute_result"
    }
   ],
   "source": [
    "zeros=np.zeros((2,2))\n",
    "zeros"
   ]
  },
  {
   "cell_type": "code",
   "execution_count": 24,
   "id": "99e6fe66-60d5-406e-8636-fb18344f550c",
   "metadata": {},
   "outputs": [],
   "source": [
    "# create array by using 'arange' function\n",
    "array_1=np.arange(10,30,2)"
   ]
  },
  {
   "cell_type": "code",
   "execution_count": 25,
   "id": "8bcf5d7b-ad08-48bb-b307-f0712cfdc5e7",
   "metadata": {},
   "outputs": [
    {
     "data": {
      "text/plain": [
       "array([10, 12, 14, 16, 18, 20, 22, 24, 26, 28])"
      ]
     },
     "execution_count": 25,
     "metadata": {},
     "output_type": "execute_result"
    }
   ],
   "source": [
    "array_1"
   ]
  },
  {
   "cell_type": "code",
   "execution_count": 26,
   "id": "bb9d61f1-5e1c-490b-bd60-7671adba9fe7",
   "metadata": {},
   "outputs": [],
   "source": [
    "# using random function to create array\n",
    "random_array=np.random.randint(0,10,size=(3,5))"
   ]
  },
  {
   "cell_type": "code",
   "execution_count": 27,
   "id": "a7d6ae18-412b-4a3c-9951-4be076955cd2",
   "metadata": {},
   "outputs": [
    {
     "data": {
      "text/plain": [
       "array([[0, 6, 7, 9, 2],\n",
       "       [0, 0, 5, 7, 4],\n",
       "       [6, 0, 3, 3, 5]])"
      ]
     },
     "execution_count": 27,
     "metadata": {},
     "output_type": "execute_result"
    }
   ],
   "source": [
    "random_array"
   ]
  },
  {
   "cell_type": "code",
   "execution_count": 28,
   "id": "60c48b88-d232-4d4c-b9ad-139d18e87b89",
   "metadata": {},
   "outputs": [],
   "source": [
    "random_array2=np.random.random((2,5))\n",
    "# inside the random function it denotes the shape of the array"
   ]
  },
  {
   "cell_type": "code",
   "execution_count": 29,
   "id": "e59bcc1d-2390-4791-9dbe-203a9fd690a0",
   "metadata": {},
   "outputs": [
    {
     "data": {
      "text/plain": [
       "array([[0.70960435, 0.96891014, 0.10626477, 0.62753413, 0.07022039],\n",
       "       [0.56869226, 0.53666506, 0.23682207, 0.41807401, 0.91134829]])"
      ]
     },
     "execution_count": 29,
     "metadata": {},
     "output_type": "execute_result"
    }
   ],
   "source": [
    "random_array2"
   ]
  },
  {
   "cell_type": "code",
   "execution_count": 30,
   "id": "e346ebbe-0b52-447d-b919-126b29452b15",
   "metadata": {},
   "outputs": [],
   "source": [
    "seed_array=np.random.seed(10)"
   ]
  },
  {
   "cell_type": "code",
   "execution_count": 31,
   "id": "ea28dd0b-fae5-45c5-9f18-078d24f0f8f3",
   "metadata": {},
   "outputs": [],
   "source": [
    "random_array=np.random.random((5,3))"
   ]
  },
  {
   "cell_type": "code",
   "execution_count": 32,
   "id": "540749d4-01ae-4250-8336-8895ea2a60c8",
   "metadata": {},
   "outputs": [
    {
     "data": {
      "text/plain": [
       "array([[0.77132064, 0.02075195, 0.63364823],\n",
       "       [0.74880388, 0.49850701, 0.22479665],\n",
       "       [0.19806286, 0.76053071, 0.16911084],\n",
       "       [0.08833981, 0.68535982, 0.95339335],\n",
       "       [0.00394827, 0.51219226, 0.81262096]])"
      ]
     },
     "execution_count": 32,
     "metadata": {},
     "output_type": "execute_result"
    }
   ],
   "source": [
    "random_array"
   ]
  },
  {
   "cell_type": "code",
   "execution_count": 33,
   "id": "168e89e4-05ae-4fb4-92e8-5a81f479a18a",
   "metadata": {},
   "outputs": [],
   "source": [
    "random_array_1=np.random.randint(10,size=(2,5))"
   ]
  },
  {
   "cell_type": "code",
   "execution_count": 34,
   "id": "c616140c-eca0-47aa-94cb-46da56cfd954",
   "metadata": {},
   "outputs": [
    {
     "data": {
      "text/plain": [
       "array([[1, 8, 4, 1, 3],\n",
       "       [6, 5, 3, 9, 6]])"
      ]
     },
     "execution_count": 34,
     "metadata": {},
     "output_type": "execute_result"
    }
   ],
   "source": [
    "random_array_1"
   ]
  },
  {
   "cell_type": "code",
   "execution_count": 35,
   "id": "0f1db65b-fb57-4cfa-91cd-93eedac9c427",
   "metadata": {},
   "outputs": [
    {
     "data": {
      "text/plain": [
       "(2, 5)"
      ]
     },
     "execution_count": 35,
     "metadata": {},
     "output_type": "execute_result"
    }
   ],
   "source": [
    "random_array_1.shape"
   ]
  },
  {
   "cell_type": "code",
   "execution_count": 36,
   "id": "df4d4824-f33d-49be-a178-a583dbb96d97",
   "metadata": {},
   "outputs": [],
   "source": [
    "np.random.seed(5)\n",
    "random_array_1=np.random.randint(10,size=(2,5))"
   ]
  },
  {
   "cell_type": "code",
   "execution_count": 37,
   "id": "16dacf20-60ac-4102-aaf7-5e6dd8d86d26",
   "metadata": {},
   "outputs": [
    {
     "data": {
      "text/plain": [
       "array([[3, 6, 6, 0, 9],\n",
       "       [8, 4, 7, 0, 0]])"
      ]
     },
     "execution_count": 37,
     "metadata": {},
     "output_type": "execute_result"
    }
   ],
   "source": [
    "random_array_1"
   ]
  },
  {
   "cell_type": "markdown",
   "id": "af0c91d3-8984-4952-871e-a863c3dc432d",
   "metadata": {},
   "source": [
    "#### seed function in numpy is used to reproduce the exact numbers while using the random function to generate numbers\n",
    "#### it produce same numbers when I passed seed number to it."
   ]
  },
  {
   "cell_type": "markdown",
   "id": "284aab2f-96be-4837-b3d0-455cb1a4e930",
   "metadata": {},
   "source": [
    "## Viewing matrices and array"
   ]
  },
  {
   "cell_type": "code",
   "execution_count": 38,
   "id": "55fbe41c-8235-40c0-8fe7-b8814069976e",
   "metadata": {},
   "outputs": [
    {
     "data": {
      "text/plain": [
       "array([0, 3, 4, 6, 7, 8, 9])"
      ]
     },
     "execution_count": 38,
     "metadata": {},
     "output_type": "execute_result"
    }
   ],
   "source": [
    "np.unique(random_array_1)\n",
    "# it returns the unique elements in the array"
   ]
  },
  {
   "cell_type": "code",
   "execution_count": 39,
   "id": "0e7493c4-efa6-4d4d-8d78-41516f08643a",
   "metadata": {},
   "outputs": [
    {
     "data": {
      "text/plain": [
       "array([ 1, 10])"
      ]
     },
     "execution_count": 39,
     "metadata": {},
     "output_type": "execute_result"
    }
   ],
   "source": [
    "a1"
   ]
  },
  {
   "cell_type": "code",
   "execution_count": 40,
   "id": "269bcdf9-8ccc-423d-bfb2-969b56962a90",
   "metadata": {},
   "outputs": [
    {
     "data": {
      "text/plain": [
       "array([[1, 2, 3],\n",
       "       [4, 5, 6]])"
      ]
     },
     "execution_count": 40,
     "metadata": {},
     "output_type": "execute_result"
    }
   ],
   "source": [
    "a2"
   ]
  },
  {
   "cell_type": "code",
   "execution_count": 41,
   "id": "c02eb4fa-abb6-44c1-b956-ba877ead5268",
   "metadata": {},
   "outputs": [
    {
     "data": {
      "text/plain": [
       "array([[[10, 20, 30],\n",
       "        [40, 50, 60],\n",
       "        [70, 80, 90]],\n",
       "\n",
       "       [[11, 12, 13],\n",
       "        [21, 22, 23],\n",
       "        [31, 32, 33]]])"
      ]
     },
     "execution_count": 41,
     "metadata": {},
     "output_type": "execute_result"
    }
   ],
   "source": [
    "a3"
   ]
  },
  {
   "cell_type": "code",
   "execution_count": 42,
   "id": "1989e7de-70f7-4faa-a4a4-c9593b53d7ac",
   "metadata": {},
   "outputs": [
    {
     "data": {
      "text/plain": [
       "array([[[10, 20, 30],\n",
       "        [40, 50, 60],\n",
       "        [70, 80, 90]],\n",
       "\n",
       "       [[11, 12, 13],\n",
       "        [21, 22, 23],\n",
       "        [31, 32, 33]]])"
      ]
     },
     "execution_count": 42,
     "metadata": {},
     "output_type": "execute_result"
    }
   ],
   "source": [
    "a3[:2]"
   ]
  },
  {
   "cell_type": "code",
   "execution_count": 43,
   "id": "9ff69db7-3c34-4e27-b479-b2cf6b3eae98",
   "metadata": {},
   "outputs": [
    {
     "data": {
      "text/plain": [
       "array([[[10, 20, 30],\n",
       "        [40, 50, 60],\n",
       "        [70, 80, 90]],\n",
       "\n",
       "       [[11, 12, 13],\n",
       "        [21, 22, 23],\n",
       "        [31, 32, 33]]])"
      ]
     },
     "execution_count": 43,
     "metadata": {},
     "output_type": "execute_result"
    }
   ],
   "source": [
    "a3[:]"
   ]
  },
  {
   "cell_type": "code",
   "execution_count": 44,
   "id": "7e98a885-5c00-4ed3-a934-6c8e6b3fde0c",
   "metadata": {},
   "outputs": [
    {
     "data": {
      "text/plain": [
       "array([[[10, 20],\n",
       "        [40, 50]],\n",
       "\n",
       "       [[11, 12],\n",
       "        [21, 22]]])"
      ]
     },
     "execution_count": 44,
     "metadata": {},
     "output_type": "execute_result"
    }
   ],
   "source": [
    "a3[:2,:2,:2]\n",
    "# number of arrays, column , row"
   ]
  },
  {
   "cell_type": "code",
   "execution_count": 45,
   "id": "e29fc354-6b56-41f0-80d6-680b51a519fe",
   "metadata": {},
   "outputs": [
    {
     "data": {
      "text/plain": [
       "array([[[10],\n",
       "        [40]]])"
      ]
     },
     "execution_count": 45,
     "metadata": {},
     "output_type": "execute_result"
    }
   ],
   "source": [
    "a3[:1,:2,:1]"
   ]
  },
  {
   "cell_type": "code",
   "execution_count": 46,
   "id": "5ad019d9-39a8-418e-8ad2-dc7d03e88169",
   "metadata": {},
   "outputs": [],
   "source": [
    "array_4=np.random.randint(20,size=(3,4,5,6))\n",
    "# 3-array 4-sub-array 5-rows 6-columns"
   ]
  },
  {
   "cell_type": "code",
   "execution_count": 47,
   "id": "86cfb370-df22-4d4d-b5f3-3224d7c7388b",
   "metadata": {},
   "outputs": [
    {
     "data": {
      "text/plain": [
       "array([[[[ 7, 12, 15, 17,  7, 16],\n",
       "         [12, 13, 11,  1, 15, 18],\n",
       "         [ 9, 10,  9,  9,  1, 18],\n",
       "         [ 7, 16, 14,  5,  0, 16],\n",
       "         [ 4, 14,  4,  9, 19,  2]],\n",
       "\n",
       "        [[ 4,  6,  9, 19, 19, 18],\n",
       "         [17,  7,  4, 12, 13, 11],\n",
       "         [11,  3,  1,  3, 14,  1],\n",
       "         [ 7, 16, 14,  9,  6, 15],\n",
       "         [16,  5,  2, 13, 13, 11]],\n",
       "\n",
       "        [[ 8,  0, 12, 12,  5, 14],\n",
       "         [15, 18,  0,  7,  7, 16],\n",
       "         [ 0,  8, 12,  5, 11,  5],\n",
       "         [ 9,  5, 18,  1, 15,  6],\n",
       "         [ 3, 15, 17,  8,  0, 18]],\n",
       "\n",
       "        [[13, 15, 18, 17, 19, 11],\n",
       "         [19, 17,  4, 18, 19,  4],\n",
       "         [ 9,  0, 10, 15,  6,  9],\n",
       "         [14,  2, 19,  0,  8,  8],\n",
       "         [ 7, 12,  8, 10,  8,  0]]],\n",
       "\n",
       "\n",
       "       [[[15, 14,  5,  3, 11, 11],\n",
       "         [ 4,  0,  2,  2, 17,  1],\n",
       "         [13,  1, 18, 19,  0, 13],\n",
       "         [ 9,  1,  9,  0,  8,  7],\n",
       "         [ 4, 15, 17,  4, 18,  1]],\n",
       "\n",
       "        [[ 5,  4, 18,  2, 13,  1],\n",
       "         [18,  3,  1, 18,  9,  0],\n",
       "         [17,  2, 14, 19,  8, 10],\n",
       "         [ 5, 15, 19, 14,  5, 17],\n",
       "         [17,  0,  8, 14,  0, 13]],\n",
       "\n",
       "        [[ 5,  9, 19, 11,  3, 16],\n",
       "         [19,  3,  3,  2,  6, 18],\n",
       "         [15,  7,  0,  3,  5,  1],\n",
       "         [ 6,  7,  3, 14,  9,  7],\n",
       "         [ 7,  6, 14,  4, 10, 10]],\n",
       "\n",
       "        [[ 4,  0, 16, 17,  5,  3],\n",
       "         [15, 17, 16, 11,  8, 19],\n",
       "         [10,  9, 14,  7,  9, 16],\n",
       "         [12, 15,  7, 15, 13, 17],\n",
       "         [ 3, 14, 19, 13, 19, 19]]],\n",
       "\n",
       "\n",
       "       [[[17, 16,  0, 18, 14, 14],\n",
       "         [ 2,  8, 17,  8, 10,  6],\n",
       "         [ 9,  1, 18, 14,  5, 12],\n",
       "         [17, 13, 15,  6, 12,  1],\n",
       "         [ 5, 17, 11, 13, 19, 19]],\n",
       "\n",
       "        [[10, 16, 11,  8, 10,  7],\n",
       "         [ 3, 12,  4,  0, 13, 12],\n",
       "         [13, 19, 10,  1,  5,  1],\n",
       "         [ 0, 19, 12,  4,  0,  8],\n",
       "         [19,  5, 18, 12, 13,  6]],\n",
       "\n",
       "        [[13, 14,  2, 12,  6, 15],\n",
       "         [ 5, 17, 13, 15, 16, 18],\n",
       "         [ 7,  5, 14, 18,  4,  4],\n",
       "         [ 3,  9, 15,  0,  8, 10],\n",
       "         [17,  0,  4, 14,  5, 13]],\n",
       "\n",
       "        [[19,  9,  9,  5, 13,  1],\n",
       "         [18,  0,  3, 14, 13,  6],\n",
       "         [13,  3,  3,  7, 19, 11],\n",
       "         [ 1,  8, 15, 13, 14, 18],\n",
       "         [12,  2,  2,  2, 13,  1]]]])"
      ]
     },
     "execution_count": 47,
     "metadata": {},
     "output_type": "execute_result"
    }
   ],
   "source": [
    "array_4"
   ]
  },
  {
   "cell_type": "code",
   "execution_count": 48,
   "id": "01d7363d-6d4f-4531-b97c-aad8db688380",
   "metadata": {},
   "outputs": [
    {
     "data": {
      "text/plain": [
       "4"
      ]
     },
     "execution_count": 48,
     "metadata": {},
     "output_type": "execute_result"
    }
   ],
   "source": [
    "array_4.ndim"
   ]
  },
  {
   "cell_type": "code",
   "execution_count": 49,
   "id": "1d78b93b-3f35-4a09-bbf4-e87396b211b7",
   "metadata": {},
   "outputs": [
    {
     "data": {
      "text/plain": [
       "array([[[[ 7, 12, 15, 17,  7, 16]]]])"
      ]
     },
     "execution_count": 49,
     "metadata": {},
     "output_type": "execute_result"
    }
   ],
   "source": [
    "array_4[0:1,0:1,0:1]\n",
    "# it returns the first numbers in the inner most values"
   ]
  },
  {
   "cell_type": "code",
   "execution_count": 50,
   "id": "e8d00b36-f92d-430d-ae82-9f824c2e59eb",
   "metadata": {},
   "outputs": [
    {
     "data": {
      "text/plain": [
       "array([[[[ 7, 12],\n",
       "         [12, 13]],\n",
       "\n",
       "        [[ 4,  6],\n",
       "         [17,  7]],\n",
       "\n",
       "        [[ 8,  0],\n",
       "         [15, 18]]]])"
      ]
     },
     "execution_count": 50,
     "metadata": {},
     "output_type": "execute_result"
    }
   ],
   "source": [
    "array_4[:1,:3,:2,:2]\n",
    "# outer most , 1-D , 2-D , inner most"
   ]
  },
  {
   "cell_type": "code",
   "execution_count": 51,
   "id": "8df7d045-b433-40ad-ab0c-a1ff15606443",
   "metadata": {},
   "outputs": [],
   "source": [
    "np.random.seed(5)\n",
    "a=np.random.random(size=5)\n",
    "b=np.random.random(size=5)"
   ]
  },
  {
   "cell_type": "code",
   "execution_count": 52,
   "id": "5f8cccab-eec1-46e8-9491-49f87b86a165",
   "metadata": {},
   "outputs": [
    {
     "data": {
      "text/plain": [
       "array([0.22199317, 0.87073231, 0.20671916, 0.91861091, 0.48841119])"
      ]
     },
     "execution_count": 52,
     "metadata": {},
     "output_type": "execute_result"
    }
   ],
   "source": [
    "a"
   ]
  },
  {
   "cell_type": "code",
   "execution_count": 53,
   "id": "93917e84-2136-41b9-ae9a-ee47435eb0b8",
   "metadata": {},
   "outputs": [
    {
     "data": {
      "text/plain": [
       "array([0.61174386, 0.76590786, 0.51841799, 0.2968005 , 0.18772123])"
      ]
     },
     "execution_count": 53,
     "metadata": {},
     "output_type": "execute_result"
    }
   ],
   "source": [
    "b"
   ]
  },
  {
   "cell_type": "code",
   "execution_count": 54,
   "id": "da3b3a88-234f-4c54-a179-3d127769e30f",
   "metadata": {},
   "outputs": [
    {
     "name": "stdout",
     "output_type": "stream",
     "text": [
      "[np.float64(0.13580296002044517), np.float64(0.6669007141924762), np.float64(0.10716692856585984), np.float64(0.27264417822936377), np.float64(0.09168514845246786)]\n"
     ]
    }
   ],
   "source": [
    "c=[]\n",
    "for i in range(len(a)):\n",
    "    c.append(a[i]*b[i])\n",
    "print(c)"
   ]
  },
  {
   "cell_type": "markdown",
   "id": "7a1f56b8-bcc1-4603-b43b-ba284b2c481d",
   "metadata": {},
   "source": [
    "## Manipulating and comparing array"
   ]
  },
  {
   "cell_type": "markdown",
   "id": "4328becd-932a-40ad-8d06-b8aad7ffa268",
   "metadata": {},
   "source": [
    "### Arithmetic"
   ]
  },
  {
   "cell_type": "code",
   "execution_count": 55,
   "id": "96731f98-3f3d-48af-b0e6-8998eb0497a2",
   "metadata": {},
   "outputs": [],
   "source": [
    "a1=np.array((10,20,30))"
   ]
  },
  {
   "cell_type": "code",
   "execution_count": 56,
   "id": "1f3fb8b6-adc2-43c9-b8ef-a2c59d383521",
   "metadata": {},
   "outputs": [
    {
     "data": {
      "text/plain": [
       "array([10, 20, 30])"
      ]
     },
     "execution_count": 56,
     "metadata": {},
     "output_type": "execute_result"
    }
   ],
   "source": [
    "a1"
   ]
  },
  {
   "cell_type": "code",
   "execution_count": 57,
   "id": "4c52ed4f-93a5-4306-8799-8bc1ee17565b",
   "metadata": {},
   "outputs": [],
   "source": [
    "ones=np.ones((3))"
   ]
  },
  {
   "cell_type": "code",
   "execution_count": 58,
   "id": "2943077d-dc41-413e-a2c7-83663a107cac",
   "metadata": {},
   "outputs": [
    {
     "data": {
      "text/plain": [
       "array([1., 1., 1.])"
      ]
     },
     "execution_count": 58,
     "metadata": {},
     "output_type": "execute_result"
    }
   ],
   "source": [
    "ones"
   ]
  },
  {
   "cell_type": "code",
   "execution_count": 59,
   "id": "be0bc5ec-4326-4080-bd17-0cb3c8e560d6",
   "metadata": {},
   "outputs": [
    {
     "data": {
      "text/plain": [
       "array([11., 21., 31.])"
      ]
     },
     "execution_count": 59,
     "metadata": {},
     "output_type": "execute_result"
    }
   ],
   "source": [
    "a1+ones"
   ]
  },
  {
   "cell_type": "code",
   "execution_count": 60,
   "id": "119895b9-2baf-4fcb-bd2e-03942f4aff4b",
   "metadata": {},
   "outputs": [
    {
     "data": {
      "text/plain": [
       "array([ 9., 19., 29.])"
      ]
     },
     "execution_count": 60,
     "metadata": {},
     "output_type": "execute_result"
    }
   ],
   "source": [
    "a1-ones"
   ]
  },
  {
   "cell_type": "code",
   "execution_count": 61,
   "id": "8feaa56c-a970-4e26-94ea-203e9e506b27",
   "metadata": {},
   "outputs": [
    {
     "data": {
      "text/plain": [
       "array([10., 20., 30.])"
      ]
     },
     "execution_count": 61,
     "metadata": {},
     "output_type": "execute_result"
    }
   ],
   "source": [
    "a1*ones"
   ]
  },
  {
   "cell_type": "code",
   "execution_count": 62,
   "id": "2f180bcc-9465-4bc3-b6dc-0ba73f5b87f9",
   "metadata": {},
   "outputs": [
    {
     "data": {
      "text/plain": [
       "array([[1, 2, 3],\n",
       "       [4, 5, 6]])"
      ]
     },
     "execution_count": 62,
     "metadata": {},
     "output_type": "execute_result"
    }
   ],
   "source": [
    "a2"
   ]
  },
  {
   "cell_type": "code",
   "execution_count": 63,
   "id": "0edbcbb1-259c-4b97-ba36-d3e66118ae90",
   "metadata": {},
   "outputs": [
    {
     "data": {
      "text/plain": [
       "array([[1., 2., 3.],\n",
       "       [4., 5., 6.]])"
      ]
     },
     "execution_count": 63,
     "metadata": {},
     "output_type": "execute_result"
    }
   ],
   "source": [
    "ones*a2"
   ]
  },
  {
   "cell_type": "code",
   "execution_count": 64,
   "id": "78205a94-9874-4200-b18f-280f64b2d338",
   "metadata": {},
   "outputs": [
    {
     "data": {
      "text/plain": [
       "array([[ 10,  40,  90],\n",
       "       [ 40, 100, 180]])"
      ]
     },
     "execution_count": 64,
     "metadata": {},
     "output_type": "execute_result"
    }
   ],
   "source": [
    "  a1*a2"
   ]
  },
  {
   "cell_type": "code",
   "execution_count": 65,
   "id": "944f2d3b-98fe-40bc-9be9-93c8b1a6ec9f",
   "metadata": {},
   "outputs": [
    {
     "data": {
      "text/plain": [
       "array([[ 1,  4,  9],\n",
       "       [16, 25, 36]])"
      ]
     },
     "execution_count": 65,
     "metadata": {},
     "output_type": "execute_result"
    }
   ],
   "source": [
    " np.square(a2)"
   ]
  },
  {
   "cell_type": "markdown",
   "id": "fc141280-4f63-4bf2-a710-5bbfe31676e0",
   "metadata": {},
   "source": [
    "### Aggregation\n",
    "It is used for performing the same operation on a number of things"
   ]
  },
  {
   "cell_type": "code",
   "execution_count": 66,
   "id": "d9d3f476-abc5-4da1-b763-dc5e1802e083",
   "metadata": {},
   "outputs": [
    {
     "data": {
      "text/plain": [
       "list"
      ]
     },
     "execution_count": 66,
     "metadata": {},
     "output_type": "execute_result"
    }
   ],
   "source": [
    "my_list=[23,56,89]\n",
    "type(my_list)"
   ]
  },
  {
   "cell_type": "code",
   "execution_count": 67,
   "id": "bf8f0914-0b97-4a10-bb70-6200bc30b178",
   "metadata": {},
   "outputs": [
    {
     "data": {
      "text/plain": [
       "168"
      ]
     },
     "execution_count": 67,
     "metadata": {},
     "output_type": "execute_result"
    }
   ],
   "source": [
    "sum(my_list)"
   ]
  },
  {
   "cell_type": "code",
   "execution_count": 68,
   "id": "5d088cd8-5791-4e86-8aee-b7a823f468e8",
   "metadata": {},
   "outputs": [
    {
     "data": {
      "text/plain": [
       "np.int64(168)"
      ]
     },
     "execution_count": 68,
     "metadata": {},
     "output_type": "execute_result"
    }
   ],
   "source": [
    "np.sum(my_list)"
   ]
  },
  {
   "cell_type": "markdown",
   "id": "be9e49d7-1bd9-4d54-a5a0-812dbe8f2c27",
   "metadata": {},
   "source": [
    "there are two methods doing the same thing so use Python method for python datatypes and numpy method for array's"
   ]
  },
  {
   "cell_type": "code",
   "execution_count": 69,
   "id": "e5dbb40b-6d8a-4797-8958-0fd0e37d33a5",
   "metadata": {},
   "outputs": [],
   "source": [
    "large_array=np.random.random(100000)\n"
   ]
  },
  {
   "cell_type": "code",
   "execution_count": 70,
   "id": "a8791799-d0f0-458c-ae1e-5fb878f1dfa3",
   "metadata": {},
   "outputs": [
    {
     "data": {
      "text/plain": [
       "array([0.08074127, 0.7384403 , 0.44130922, 0.15830987, 0.87993703,\n",
       "       0.27408646, 0.41423502, 0.29607993, 0.62878791, 0.57983781,\n",
       "       0.5999292 , 0.26581912, 0.28468588, 0.25358821, 0.32756395,\n",
       "       0.1441643 , 0.16561286, 0.96393053, 0.96022672, 0.18841466])"
      ]
     },
     "execution_count": 70,
     "metadata": {},
     "output_type": "execute_result"
    }
   ],
   "source": [
    "large_array[:20]"
   ]
  },
  {
   "cell_type": "code",
   "execution_count": 71,
   "id": "16b8a2e9-d32d-4a35-a665-99e2bc8f65db",
   "metadata": {},
   "outputs": [
    {
     "name": "stdout",
     "output_type": "stream",
     "text": [
      "14.8 ns ± 0.0592 ns per loop (mean ± std. dev. of 7 runs, 100,000,000 loops each)\n"
     ]
    }
   ],
   "source": [
    "%timeit large_array"
   ]
  },
  {
   "cell_type": "markdown",
   "id": "bfb4b5e9-54b3-49db-b3c5-bbe00f631d1c",
   "metadata": {},
   "source": [
    " ##### for arrays use numpy function because it has great speed of  doing calculation  than by using python function"
   ]
  },
  {
   "cell_type": "code",
   "execution_count": 72,
   "id": "368c1f44-1ae6-488f-85ad-addaa508fc34",
   "metadata": {},
   "outputs": [
    {
     "data": {
      "text/plain": [
       "np.float64(50145.346399901646)"
      ]
     },
     "execution_count": 72,
     "metadata": {},
     "output_type": "execute_result"
    }
   ],
   "source": [
    "np.sum(large_array)"
   ]
  },
  {
   "cell_type": "code",
   "execution_count": 73,
   "id": "fe46795f-b320-40e0-a7da-3dc774073b2f",
   "metadata": {},
   "outputs": [
    {
     "data": {
      "text/plain": [
       "np.float64(0.9999951186805913)"
      ]
     },
     "execution_count": 73,
     "metadata": {},
     "output_type": "execute_result"
    }
   ],
   "source": [
    "np.max(large_array)"
   ]
  },
  {
   "cell_type": "code",
   "execution_count": 74,
   "id": "cde6c7ca-5084-4e6b-8ce2-2183364823aa",
   "metadata": {},
   "outputs": [
    {
     "data": {
      "text/plain": [
       "np.float64(1.2032035381359663e-06)"
      ]
     },
     "execution_count": 74,
     "metadata": {},
     "output_type": "execute_result"
    }
   ],
   "source": [
    "np.min(large_array)"
   ]
  },
  {
   "cell_type": "code",
   "execution_count": 75,
   "id": "3ed38525-f0bb-492d-81b8-05a0fe24660a",
   "metadata": {},
   "outputs": [
    {
     "data": {
      "text/plain": [
       "np.float64(0.5014534639990165)"
      ]
     },
     "execution_count": 75,
     "metadata": {},
     "output_type": "execute_result"
    }
   ],
   "source": [
    "np.mean(large_array)"
   ]
  },
  {
   "cell_type": "code",
   "execution_count": 76,
   "id": "0580af44-1888-48b2-8886-81afe6430cd7",
   "metadata": {},
   "outputs": [
    {
     "data": {
      "text/plain": [
       "np.float64(0.28824448077504045)"
      ]
     },
     "execution_count": 76,
     "metadata": {},
     "output_type": "execute_result"
    }
   ],
   "source": [
    "np.std(large_array)"
   ]
  },
  {
   "cell_type": "code",
   "execution_count": 77,
   "id": "773c060e-d555-4be8-8977-9194d09fd61d",
   "metadata": {},
   "outputs": [
    {
     "data": {
      "text/plain": [
       "np.float64(0.08308488069727266)"
      ]
     },
     "execution_count": 77,
     "metadata": {},
     "output_type": "execute_result"
    }
   ],
   "source": [
    "np.var(large_array)\n",
    "# it is the degree of dispersion from the mean value of an data"
   ]
  },
  {
   "cell_type": "code",
   "execution_count": 78,
   "id": "11616840-f8bd-4496-a040-b8937f2c14e1",
   "metadata": {},
   "outputs": [
    {
     "data": {
      "text/plain": [
       "np.float64(0.28824448077504045)"
      ]
     },
     "execution_count": 78,
     "metadata": {},
     "output_type": "execute_result"
    }
   ],
   "source": [
    "np.sqrt(np.var(large_array))"
   ]
  },
  {
   "cell_type": "markdown",
   "id": "c4505290-74fd-4742-af3e-6c3b04531bba",
   "metadata": {},
   "source": [
    "##### standard deviation is the square root of the variance of data"
   ]
  },
  {
   "cell_type": "markdown",
   "id": "d9cf4f59-ad44-42c8-93cb-70374f31b4b7",
   "metadata": {},
   "source": [
    " ## Standard deviation and Variance"
   ]
  },
  {
   "cell_type": "code",
   "execution_count": 79,
   "id": "81247ae2-ae03-428d-be78-bd40cde8b337",
   "metadata": {},
   "outputs": [],
   "source": [
    "high=np.array([10,205,600,8000,100990])\n",
    "low=np.array([5,50,10,8,63])"
   ]
  },
  {
   "cell_type": "code",
   "execution_count": 80,
   "id": "66238ddc-c071-4a97-bbba-92dc231af74c",
   "metadata": {},
   "outputs": [
    {
     "data": {
      "text/plain": [
       "(np.float64(1570390924.0), np.float64(591.76))"
      ]
     },
     "execution_count": 80,
     "metadata": {},
     "output_type": "execute_result"
    }
   ],
   "source": [
    "np.var(high),np.var(low)"
   ]
  },
  {
   "cell_type": "code",
   "execution_count": 81,
   "id": "fb846413-9c9e-46ae-812d-163c32e5c111",
   "metadata": {},
   "outputs": [
    {
     "data": {
      "image/png": "[encoded data removed]",
      "text/plain": [
       "<Figure size 640x480 with 1 Axes>"
      ]
     },
     "metadata": {},
     "output_type": "display_data"
    }
   ],
   "source": [
    " #%matplotlib inline\n",
    "import matplotlib.pyplot as plt\n",
    "plt.hist(high)\n",
    "plt.show()"
   ]
  },
  {
   "cell_type": "code",
   "execution_count": 82,
   "id": "a495e97f-4510-42c8-9585-0413e73d63c5",
   "metadata": {},
   "outputs": [
    {
     "data": {
      "image/png": "[encoded data removed]",
      "text/plain": [
       "<Figure size 640x480 with 1 Axes>"
      ]
     },
     "metadata": {},
     "output_type": "display_data"
    }
   ],
   "source": [
    "plt.hist(low)\n",
    "plt.show()"
   ]
  },
  {
   "cell_type": "markdown",
   "id": "85ebbd63-8ef4-4da7-af74-4fdfe4869e6d",
   "metadata": {},
   "source": [
    "### Reshape and Transpose"
   ]
  },
  {
   "cell_type": "code",
   "execution_count": 83,
   "id": "b810a92b-ac51-40a7-b788-3a33d623a76c",
   "metadata": {},
   "outputs": [
    {
     "data": {
      "text/plain": [
       "(2, 3)"
      ]
     },
     "execution_count": 83,
     "metadata": {},
     "output_type": "execute_result"
    }
   ],
   "source": [
    "a2.shape"
   ]
  },
  {
   "cell_type": "code",
   "execution_count": 84,
   "id": "fc375bec-4f48-4cdc-8c36-f46269f49868",
   "metadata": {},
   "outputs": [
    {
     "data": {
      "text/plain": [
       "array([[[10, 20, 30],\n",
       "        [40, 50, 60],\n",
       "        [70, 80, 90]],\n",
       "\n",
       "       [[11, 12, 13],\n",
       "        [21, 22, 23],\n",
       "        [31, 32, 33]]])"
      ]
     },
     "execution_count": 84,
     "metadata": {},
     "output_type": "execute_result"
    }
   ],
   "source": [
    "a3"
   ]
  },
  {
   "cell_type": "code",
   "execution_count": 85,
   "id": "4c83d7dc-9d17-44af-b828-9a4847e9f828",
   "metadata": {},
   "outputs": [
    {
     "data": {
      "text/plain": [
       "(2, 3, 3)"
      ]
     },
     "execution_count": 85,
     "metadata": {},
     "output_type": "execute_result"
    }
   ],
   "source": [
    "a3.shape"
   ]
  },
  {
   "cell_type": "code",
   "execution_count": 86,
   "id": "d597a9f4-da55-437f-88b7-4176e93a0ab2",
   "metadata": {},
   "outputs": [
    {
     "ename": "ValueError",
     "evalue": "operands could not be broadcast together with shapes (2,3) (2,3,3) ",
     "output_type": "error",
     "traceback": [
      "\u001b[0;31m---------------------------------------------------------------------------\u001b[0m",
      "\u001b[0;31mValueError\u001b[0m                                Traceback (most recent call last)",
      "Cell \u001b[0;32mIn[86], line 1\u001b[0m\n\u001b[0;32m----> 1\u001b[0m a2\u001b[38;5;241m*\u001b[39ma3\n",
      "\u001b[0;31mValueError\u001b[0m: operands could not be broadcast together with shapes (2,3) (2,3,3) "
     ]
    }
   ],
   "source": [
    "a2*a3"
   ]
  },
  {
   "cell_type": "code",
   "execution_count": 87,
   "id": "91ffaef1-0490-4bbc-97b0-215ba3fa5200",
   "metadata": {},
   "outputs": [],
   "source": [
    "reshape_array=a2.reshape(2,3,1)"
   ]
  },
  {
   "cell_type": "code",
   "execution_count": 88,
   "id": "d73b9013-c1fa-448e-8719-cf689f163a92",
   "metadata": {},
   "outputs": [
    {
     "data": {
      "text/plain": [
       "array([[[1],\n",
       "        [2],\n",
       "        [3]],\n",
       "\n",
       "       [[4],\n",
       "        [5],\n",
       "        [6]]])"
      ]
     },
     "execution_count": 88,
     "metadata": {},
     "output_type": "execute_result"
    }
   ],
   "source": [
    "reshape_array"
   ]
  },
  {
   "cell_type": "code",
   "execution_count": 89,
   "id": "96a2b6f6-a05f-447e-b64b-04a762c0d345",
   "metadata": {},
   "outputs": [
    {
     "data": {
      "text/plain": [
       "array([[[ 10,  20,  30],\n",
       "        [ 80, 100, 120],\n",
       "        [210, 240, 270]],\n",
       "\n",
       "       [[ 44,  48,  52],\n",
       "        [105, 110, 115],\n",
       "        [186, 192, 198]]])"
      ]
     },
     "execution_count": 89,
     "metadata": {},
     "output_type": "execute_result"
    }
   ],
   "source": [
    "reshape_array*a3\n",
    "#refer broadcasting documentation in numpy"
   ]
  },
  {
   "cell_type": "code",
   "execution_count": null,
   "id": "b1c32658-59b2-4fff-b05b-7cc478483717",
   "metadata": {},
   "outputs": [],
   "source": [
    "# Transpose\n",
    "reshape_array.T"
   ]
  },
  {
   "cell_type": "code",
   "execution_count": 90,
   "id": "f1927b44-0d82-42f6-808a-7379564a653f",
   "metadata": {},
   "outputs": [
    {
     "data": {
      "text/plain": [
       "(2, 3, 1)"
      ]
     },
     "execution_count": 90,
     "metadata": {},
     "output_type": "execute_result"
    }
   ],
   "source": [
    "reshape_array.shape"
   ]
  },
  {
   "cell_type": "code",
   "execution_count": 91,
   "id": "eb74f576-b6da-4618-b1cd-32bbb6fbd549",
   "metadata": {},
   "outputs": [
    {
     "data": {
      "text/plain": [
       "array([[1, 2, 3],\n",
       "       [4, 5, 6]])"
      ]
     },
     "execution_count": 91,
     "metadata": {},
     "output_type": "execute_result"
    }
   ],
   "source": [
    "a2"
   ]
  },
  {
   "cell_type": "code",
   "execution_count": 92,
   "id": "e259e985-0a9a-42a5-8ea8-2e7bf3b5e2c7",
   "metadata": {},
   "outputs": [
    {
     "data": {
      "text/plain": [
       "(2, 3)"
      ]
     },
     "execution_count": 92,
     "metadata": {},
     "output_type": "execute_result"
    }
   ],
   "source": [
    "a2.shape"
   ]
  },
  {
   "cell_type": "markdown",
   "id": "b50772d8-b236-4f40-8466-eed8864663be",
   "metadata": {},
   "source": [
    " ## Dot Product"
   ]
  },
  {
   "cell_type": "code",
   "execution_count": 93,
   "id": "fadc4365-2730-48d4-be69-66a4ac5199d5",
   "metadata": {},
   "outputs": [],
   "source": [
    "np.random.seed(10)\n",
    "matrix1=np.random.randint(10,size=(4,3))\n",
    "matrix2=np.random.randint(10,size=(4,3))"
   ]
  },
  {
   "cell_type": "code",
   "execution_count": 94,
   "id": "110b3284-a328-4f75-819a-eb07a99deb8a",
   "metadata": {},
   "outputs": [
    {
     "data": {
      "text/plain": [
       "array([[9, 4, 0],\n",
       "       [1, 9, 0],\n",
       "       [1, 8, 9],\n",
       "       [0, 8, 6]])"
      ]
     },
     "execution_count": 94,
     "metadata": {},
     "output_type": "execute_result"
    }
   ],
   "source": [
    "matrix1"
   ]
  },
  {
   "cell_type": "code",
   "execution_count": 95,
   "id": "a1f96703-98be-4398-9a3e-d644423bcecb",
   "metadata": {},
   "outputs": [
    {
     "data": {
      "text/plain": [
       "array([[4, 3, 0],\n",
       "       [4, 6, 8],\n",
       "       [1, 8, 4],\n",
       "       [1, 3, 6]])"
      ]
     },
     "execution_count": 95,
     "metadata": {},
     "output_type": "execute_result"
    }
   ],
   "source": [
    "matrix2"
   ]
  },
  {
   "cell_type": "code",
   "execution_count": 96,
   "id": "866e394b-1f79-45f8-80a3-373441dd35d0",
   "metadata": {},
   "outputs": [
    {
     "data": {
      "text/plain": [
       "array([[36, 12,  0],\n",
       "       [ 4, 54,  0],\n",
       "       [ 1, 64, 36],\n",
       "       [ 0, 24, 36]])"
      ]
     },
     "execution_count": 96,
     "metadata": {},
     "output_type": "execute_result"
    }
   ],
   "source": [
    "matrix1*matrix2\n",
    "# it is element wise product (Hadamard product)"
   ]
  },
  {
   "cell_type": "code",
   "execution_count": 97,
   "id": "82ea8e2d-5bf1-44f3-98b0-ae77643072fc",
   "metadata": {},
   "outputs": [
    {
     "ename": "ValueError",
     "evalue": "shapes (4,3) and (4,3) not aligned: 3 (dim 1) != 4 (dim 0)",
     "output_type": "error",
     "traceback": [
      "\u001b[0;31m---------------------------------------------------------------------------\u001b[0m",
      "\u001b[0;31mValueError\u001b[0m                                Traceback (most recent call last)",
      "Cell \u001b[0;32mIn[97], line 2\u001b[0m\n\u001b[1;32m      1\u001b[0m \u001b[38;5;66;03m# Dot product\u001b[39;00m\n\u001b[0;32m----> 2\u001b[0m np\u001b[38;5;241m.\u001b[39mdot(matrix1,matrix2)\n",
      "\u001b[0;31mValueError\u001b[0m: shapes (4,3) and (4,3) not aligned: 3 (dim 1) != 4 (dim 0)"
     ]
    }
   ],
   "source": [
    " # Dot product\n",
    "np.dot(matrix1,matrix2)"
   ]
  },
  {
   "cell_type": "code",
   "execution_count": 98,
   "id": "c73e685d-0a06-4e63-b53d-8755914db913",
   "metadata": {},
   "outputs": [
    {
     "data": {
      "text/plain": [
       "(3, 4)"
      ]
     },
     "execution_count": 98,
     "metadata": {},
     "output_type": "execute_result"
    }
   ],
   "source": [
    "#Transpose\n",
    "T_matrix2=np.transpose(matrix2)\n",
    "T_matrix2.shape"
   ]
  },
  {
   "cell_type": "code",
   "execution_count": 99,
   "id": "7970e55c-4dbd-42b1-acba-a6ff5b885fc2",
   "metadata": {},
   "outputs": [
    {
     "data": {
      "text/plain": [
       "array([[ 41,  41,  12],\n",
       "       [ 68, 154, 152],\n",
       "       [ 15,  90,  72]])"
      ]
     },
     "execution_count": 99,
     "metadata": {},
     "output_type": "execute_result"
    }
   ],
   "source": [
    "np.dot(matrix1.T,matrix2)"
   ]
  },
  {
   "cell_type": "code",
   "execution_count": 100,
   "id": "d8c0932a-84b2-4fd2-ab25-6c6a49e634b6",
   "metadata": {},
   "outputs": [
    {
     "data": {
      "text/plain": [
       "(3, 4)"
      ]
     },
     "execution_count": 100,
     "metadata": {},
     "output_type": "execute_result"
    }
   ],
   "source": [
    "matrix1.T.shape"
   ]
  },
  {
   "cell_type": "markdown",
   "id": "5c23ceab-2a08-4bef-ba10-5b56b511fd64",
   "metadata": {},
   "source": [
    "### Dot product example"
   ]
  },
  {
   "cell_type": "code",
   "execution_count": 101,
   "id": "78b8307e-9f63-4f7b-bc80-64a6ce063cba",
   "metadata": {},
   "outputs": [
    {
     "data": {
      "text/plain": [
       "array([[12, 15,  0],\n",
       "       [ 3,  3,  7],\n",
       "       [ 9, 19, 18],\n",
       "       [ 4,  6, 12],\n",
       "       [ 1,  6,  7]])"
      ]
     },
     "execution_count": 101,
     "metadata": {},
     "output_type": "execute_result"
    }
   ],
   "source": [
    "np.random.seed(0)\n",
    "sales=np.random.randint(20,size=(5,3))\n",
    "sales"
   ]
  },
  {
   "cell_type": "code",
   "execution_count": 102,
   "id": "89c0ee34-c758-421a-9af4-2f54f2485484",
   "metadata": {},
   "outputs": [],
   "source": [
    "#creating dataframe\n",
    "weekly_sales=pd.DataFrame(sales,\n",
    "                          index=['Monday','Tuesday','Wednesday','Thursday','Friday'],\n",
    "                          columns=['Peanut butter','Almond butter','Cashew butter'])"
   ]
  },
  {
   "cell_type": "code",
   "execution_count": 103,
   "id": "007540a6-c122-49e1-82bf-451e4d76a1e4",
   "metadata": {},
   "outputs": [
    {
     "data": {
      "text/html": [
       "<div>\n",
       "<style scoped>\n",
       "    .dataframe tbody tr th:only-of-type {\n",
       "        vertical-align: middle;\n",
       "    }\n",
       "\n",
       "    .dataframe tbody tr th {\n",
       "        vertical-align: top;\n",
       "    }\n",
       "\n",
       "    .dataframe thead th {\n",
       "        text-align: right;\n",
       "    }\n",
       "</style>\n",
       "<table border=\"1\" class=\"dataframe\">\n",
       "  <thead>\n",
       "    <tr style=\"text-align: right;\">\n",
       "      <th></th>\n",
       "      <th>Peanut butter</th>\n",
       "      <th>Almond butter</th>\n",
       "      <th>Cashew butter</th>\n",
       "    </tr>\n",
       "  </thead>\n",
       "  <tbody>\n",
       "    <tr>\n",
       "      <th>Monday</th>\n",
       "      <td>12</td>\n",
       "      <td>15</td>\n",
       "      <td>0</td>\n",
       "    </tr>\n",
       "    <tr>\n",
       "      <th>Tuesday</th>\n",
       "      <td>3</td>\n",
       "      <td>3</td>\n",
       "      <td>7</td>\n",
       "    </tr>\n",
       "    <tr>\n",
       "      <th>Wednesday</th>\n",
       "      <td>9</td>\n",
       "      <td>19</td>\n",
       "      <td>18</td>\n",
       "    </tr>\n",
       "    <tr>\n",
       "      <th>Thursday</th>\n",
       "      <td>4</td>\n",
       "      <td>6</td>\n",
       "      <td>12</td>\n",
       "    </tr>\n",
       "    <tr>\n",
       "      <th>Friday</th>\n",
       "      <td>1</td>\n",
       "      <td>6</td>\n",
       "      <td>7</td>\n",
       "    </tr>\n",
       "  </tbody>\n",
       "</table>\n",
       "</div>"
      ],
      "text/plain": [
       "           Peanut butter  Almond butter  Cashew butter\n",
       "Monday                12             15              0\n",
       "Tuesday                3              3              7\n",
       "Wednesday              9             19             18\n",
       "Thursday               4              6             12\n",
       "Friday                 1              6              7"
      ]
     },
     "execution_count": 103,
     "metadata": {},
     "output_type": "execute_result"
    }
   ],
   "source": [
    "weekly_sales"
   ]
  },
  {
   "cell_type": "code",
   "execution_count": 104,
   "id": "4298b57e-4e0f-4869-b226-b98d48a5b75a",
   "metadata": {},
   "outputs": [],
   "source": [
    "prices=np.array([10,30,15])"
   ]
  },
  {
   "cell_type": "code",
   "execution_count": 105,
   "id": "efd94e50-857c-4a2c-9527-bfbb8f720844",
   "metadata": {},
   "outputs": [
    {
     "data": {
      "text/plain": [
       "array([10, 30, 15])"
      ]
     },
     "execution_count": 105,
     "metadata": {},
     "output_type": "execute_result"
    }
   ],
   "source": [
    "prices"
   ]
  },
  {
   "cell_type": "code",
   "execution_count": 106,
   "id": "9d948e74-fdf3-4fad-aa5f-e4f78e8eee17",
   "metadata": {},
   "outputs": [
    {
     "data": {
      "text/plain": [
       "(3,)"
      ]
     },
     "execution_count": 106,
     "metadata": {},
     "output_type": "execute_result"
    }
   ],
   "source": [
    "prices.shape"
   ]
  },
  {
   "cell_type": "code",
   "execution_count": 107,
   "id": "97cd5550-ecd0-4d91-9808-284754734b8b",
   "metadata": {},
   "outputs": [
    {
     "data": {
      "text/plain": [
       "array([[10, 30, 15]])"
      ]
     },
     "execution_count": 107,
     "metadata": {},
     "output_type": "execute_result"
    }
   ],
   "source": [
    "prices.reshape(1,3)"
   ]
  },
  {
   "cell_type": "code",
   "execution_count": 108,
   "id": "8eb1a1fb-38e8-443e-85d7-6c394429c3db",
   "metadata": {},
   "outputs": [],
   "source": [
    "butter_prices=pd.DataFrame(prices.reshape(1,3),\n",
    "                         index=['prices'],\n",
    "                         columns=['Peanut butter','Almond butter','Cashew butter'])"
   ]
  },
  {
   "cell_type": "code",
   "execution_count": 109,
   "id": "ca7eb06b-ebb2-4fa2-9f44-39f54d4b197e",
   "metadata": {},
   "outputs": [
    {
     "data": {
      "text/html": [
       "<div>\n",
       "<style scoped>\n",
       "    .dataframe tbody tr th:only-of-type {\n",
       "        vertical-align: middle;\n",
       "    }\n",
       "\n",
       "    .dataframe tbody tr th {\n",
       "        vertical-align: top;\n",
       "    }\n",
       "\n",
       "    .dataframe thead th {\n",
       "        text-align: right;\n",
       "    }\n",
       "</style>\n",
       "<table border=\"1\" class=\"dataframe\">\n",
       "  <thead>\n",
       "    <tr style=\"text-align: right;\">\n",
       "      <th></th>\n",
       "      <th>Peanut butter</th>\n",
       "      <th>Almond butter</th>\n",
       "      <th>Cashew butter</th>\n",
       "    </tr>\n",
       "  </thead>\n",
       "  <tbody>\n",
       "    <tr>\n",
       "      <th>prices</th>\n",
       "      <td>10</td>\n",
       "      <td>30</td>\n",
       "      <td>15</td>\n",
       "    </tr>\n",
       "  </tbody>\n",
       "</table>\n",
       "</div>"
      ],
      "text/plain": [
       "        Peanut butter  Almond butter  Cashew butter\n",
       "prices             10             30             15"
      ]
     },
     "execution_count": 109,
     "metadata": {},
     "output_type": "execute_result"
    }
   ],
   "source": [
    "butter_prices"
   ]
  },
  {
   "cell_type": "code",
   "execution_count": 110,
   "id": "1bbc00cc-0460-4306-b3dc-5bc80f47e5ca",
   "metadata": {},
   "outputs": [],
   "source": [
    "total_sales=prices.dot(weekly_sales.T)"
   ]
  },
  {
   "cell_type": "code",
   "execution_count": 111,
   "id": "dc21d090-bd18-4885-be38-c6242c4e0f1c",
   "metadata": {},
   "outputs": [
    {
     "data": {
      "text/plain": [
       "array([570, 225, 930, 400, 295])"
      ]
     },
     "execution_count": 111,
     "metadata": {},
     "output_type": "execute_result"
    }
   ],
   "source": [
    "total_sales"
   ]
  },
  {
   "cell_type": "code",
   "execution_count": 112,
   "id": "39e79333-5732-4670-b0c9-ed69d650665c",
   "metadata": {},
   "outputs": [
    {
     "data": {
      "text/plain": [
       "((1, 3), (5, 3))"
      ]
     },
     "execution_count": 112,
     "metadata": {},
     "output_type": "execute_result"
    }
   ],
   "source": [
    "butter_prices.shape,weekly_sales.shape"
   ]
  },
  {
   "cell_type": "code",
   "execution_count": 113,
   "id": "43c91986-d7df-409b-bf02-d7d975304afd",
   "metadata": {},
   "outputs": [],
   "source": [
    "#shape are not aligned so take transpose\n",
    "daily_sales=butter_prices.dot(weekly_sales.T)"
   ]
  },
  {
   "cell_type": "code",
   "execution_count": 114,
   "id": "395848ed-c464-4be0-bb23-b98f47bd40e4",
   "metadata": {},
   "outputs": [
    {
     "data": {
      "text/html": [
       "<div>\n",
       "<style scoped>\n",
       "    .dataframe tbody tr th:only-of-type {\n",
       "        vertical-align: middle;\n",
       "    }\n",
       "\n",
       "    .dataframe tbody tr th {\n",
       "        vertical-align: top;\n",
       "    }\n",
       "\n",
       "    .dataframe thead th {\n",
       "        text-align: right;\n",
       "    }\n",
       "</style>\n",
       "<table border=\"1\" class=\"dataframe\">\n",
       "  <thead>\n",
       "    <tr style=\"text-align: right;\">\n",
       "      <th></th>\n",
       "      <th>Monday</th>\n",
       "      <th>Tuesday</th>\n",
       "      <th>Wednesday</th>\n",
       "      <th>Thursday</th>\n",
       "      <th>Friday</th>\n",
       "    </tr>\n",
       "  </thead>\n",
       "  <tbody>\n",
       "    <tr>\n",
       "      <th>prices</th>\n",
       "      <td>570</td>\n",
       "      <td>225</td>\n",
       "      <td>930</td>\n",
       "      <td>400</td>\n",
       "      <td>295</td>\n",
       "    </tr>\n",
       "  </tbody>\n",
       "</table>\n",
       "</div>"
      ],
      "text/plain": [
       "        Monday  Tuesday  Wednesday  Thursday  Friday\n",
       "prices     570      225        930       400     295"
      ]
     },
     "execution_count": 114,
     "metadata": {},
     "output_type": "execute_result"
    }
   ],
   "source": [
    "daily_sales"
   ]
  },
  {
   "cell_type": "code",
   "execution_count": 115,
   "id": "605bb782-5c8e-4b7c-a5aa-fc69c8d60246",
   "metadata": {},
   "outputs": [],
   "source": [
    "weekly_sales ['Total (&)']=daily_sales.T"
   ]
  },
  {
   "cell_type": "code",
   "execution_count": 116,
   "id": "20cc7b50-7070-4830-b982-15a065ff417c",
   "metadata": {},
   "outputs": [
    {
     "data": {
      "text/html": [
       "<div>\n",
       "<style scoped>\n",
       "    .dataframe tbody tr th:only-of-type {\n",
       "        vertical-align: middle;\n",
       "    }\n",
       "\n",
       "    .dataframe tbody tr th {\n",
       "        vertical-align: top;\n",
       "    }\n",
       "\n",
       "    .dataframe thead th {\n",
       "        text-align: right;\n",
       "    }\n",
       "</style>\n",
       "<table border=\"1\" class=\"dataframe\">\n",
       "  <thead>\n",
       "    <tr style=\"text-align: right;\">\n",
       "      <th></th>\n",
       "      <th>Peanut butter</th>\n",
       "      <th>Almond butter</th>\n",
       "      <th>Cashew butter</th>\n",
       "      <th>Total (&amp;)</th>\n",
       "    </tr>\n",
       "  </thead>\n",
       "  <tbody>\n",
       "    <tr>\n",
       "      <th>Monday</th>\n",
       "      <td>12</td>\n",
       "      <td>15</td>\n",
       "      <td>0</td>\n",
       "      <td>570</td>\n",
       "    </tr>\n",
       "    <tr>\n",
       "      <th>Tuesday</th>\n",
       "      <td>3</td>\n",
       "      <td>3</td>\n",
       "      <td>7</td>\n",
       "      <td>225</td>\n",
       "    </tr>\n",
       "    <tr>\n",
       "      <th>Wednesday</th>\n",
       "      <td>9</td>\n",
       "      <td>19</td>\n",
       "      <td>18</td>\n",
       "      <td>930</td>\n",
       "    </tr>\n",
       "    <tr>\n",
       "      <th>Thursday</th>\n",
       "      <td>4</td>\n",
       "      <td>6</td>\n",
       "      <td>12</td>\n",
       "      <td>400</td>\n",
       "    </tr>\n",
       "    <tr>\n",
       "      <th>Friday</th>\n",
       "      <td>1</td>\n",
       "      <td>6</td>\n",
       "      <td>7</td>\n",
       "      <td>295</td>\n",
       "    </tr>\n",
       "  </tbody>\n",
       "</table>\n",
       "</div>"
      ],
      "text/plain": [
       "           Peanut butter  Almond butter  Cashew butter  Total (&)\n",
       "Monday                12             15              0        570\n",
       "Tuesday                3              3              7        225\n",
       "Wednesday              9             19             18        930\n",
       "Thursday               4              6             12        400\n",
       "Friday                 1              6              7        295"
      ]
     },
     "execution_count": 116,
     "metadata": {},
     "output_type": "execute_result"
    }
   ],
   "source": [
    "weekly_sales"
   ]
  },
  {
   "cell_type": "markdown",
   "id": "5a44f469-4485-4617-98e7-a886c3ddfece",
   "metadata": {},
   "source": [
    "## Comparison operator"
   ]
  },
  {
   "cell_type": "code",
   "execution_count": 117,
   "id": "f65f1a20-0fcb-4d79-b1c1-082618950abe",
   "metadata": {},
   "outputs": [
    {
     "data": {
      "text/plain": [
       "array([10, 20, 30])"
      ]
     },
     "execution_count": 117,
     "metadata": {},
     "output_type": "execute_result"
    }
   ],
   "source": [
    "a1"
   ]
  },
  {
   "cell_type": "code",
   "execution_count": 118,
   "id": "f4699394-0a00-4a62-9fac-6badec7a800b",
   "metadata": {},
   "outputs": [
    {
     "data": {
      "text/plain": [
       "array([[1, 2, 3],\n",
       "       [4, 5, 6]])"
      ]
     },
     "execution_count": 118,
     "metadata": {},
     "output_type": "execute_result"
    }
   ],
   "source": [
    "a2"
   ]
  },
  {
   "cell_type": "code",
   "execution_count": 119,
   "id": "207475ba-fd72-4aeb-b9bc-3dd02ac910dc",
   "metadata": {},
   "outputs": [
    {
     "data": {
      "text/plain": [
       "array([[ True,  True,  True],\n",
       "       [ True,  True,  True]])"
      ]
     },
     "execution_count": 119,
     "metadata": {},
     "output_type": "execute_result"
    }
   ],
   "source": [
    "bool_array=a1>a2\n",
    "bool_array"
   ]
  },
  {
   "cell_type": "code",
   "execution_count": 120,
   "id": "ab8be634-8c84-4562-bd54-994db234a723",
   "metadata": {},
   "outputs": [
    {
     "data": {
      "text/plain": [
       "(numpy.ndarray, dtype('bool'))"
      ]
     },
     "execution_count": 120,
     "metadata": {},
     "output_type": "execute_result"
    }
   ],
   "source": [
    "type(bool_array),bool_array.dtype"
   ]
  },
  {
   "cell_type": "code",
   "execution_count": 121,
   "id": "31eaf7b6-8a21-41b6-8685-af3b28ecf931",
   "metadata": {},
   "outputs": [
    {
     "data": {
      "text/plain": [
       "array([[False, False, False],\n",
       "       [False, False, False]])"
      ]
     },
     "execution_count": 121,
     "metadata": {},
     "output_type": "execute_result"
    }
   ],
   "source": [
    "a1 ==a2"
   ]
  },
  {
   "cell_type": "code",
   "execution_count": 122,
   "id": "83735b5e-865b-4b60-afe8-f12ffb915393",
   "metadata": {},
   "outputs": [
    {
     "data": {
      "text/plain": [
       "array([ True,  True,  True])"
      ]
     },
     "execution_count": 122,
     "metadata": {},
     "output_type": "execute_result"
    }
   ],
   "source": [
    "a1==a1"
   ]
  },
  {
   "cell_type": "markdown",
   "id": "fef549e3-9510-48d8-b630-040951685f04",
   "metadata": {},
   "source": [
    "## Sorting arrays"
   ]
  },
  {
   "cell_type": "code",
   "execution_count": 123,
   "id": "19ba1cc1-c401-4cb2-a9bc-3797284dbe1a",
   "metadata": {},
   "outputs": [
    {
     "data": {
      "text/plain": [
       "array([[9, 0, 1, 7, 1],\n",
       "       [7, 2, 8, 0, 0],\n",
       "       [4, 2, 1, 5, 5]])"
      ]
     },
     "execution_count": 123,
     "metadata": {},
     "output_type": "execute_result"
    }
   ],
   "source": [
    "np.random.seed(11)\n",
    "random_array=np.random.randint(10,size=(3,5))\n",
    "random_array"
   ]
  },
  {
   "cell_type": "code",
   "execution_count": 124,
   "id": "88786e2c-20c5-4627-836f-45a36ba85e1b",
   "metadata": {},
   "outputs": [
    {
     "data": {
      "text/plain": [
       "array([[0, 1, 1, 7, 9],\n",
       "       [0, 0, 2, 7, 8],\n",
       "       [1, 2, 4, 5, 5]])"
      ]
     },
     "execution_count": 124,
     "metadata": {},
     "output_type": "execute_result"
    }
   ],
   "source": [
    "np.sort(random_array)\n",
    "# it arranges the element in ascending order"
   ]
  },
  {
   "cell_type": "code",
   "execution_count": 125,
   "id": "b989012b-da18-46ca-be3e-4d3cad3adde6",
   "metadata": {},
   "outputs": [
    {
     "data": {
      "text/plain": [
       "array([0, 0, 0, 1, 1, 1, 2, 2, 4, 5, 5, 7, 7, 8, 9])"
      ]
     },
     "execution_count": 125,
     "metadata": {},
     "output_type": "execute_result"
    }
   ],
   "source": [
    "np.sort(random_array,axis=None)"
   ]
  },
  {
   "cell_type": "code",
   "execution_count": 126,
   "id": "de26f046-8f8e-4a2c-8609-a34ebbb8c9b3",
   "metadata": {},
   "outputs": [
    {
     "data": {
      "text/plain": [
       "array([[1, 2, 4, 3, 0],\n",
       "       [3, 4, 1, 0, 2],\n",
       "       [2, 1, 0, 3, 4]])"
      ]
     },
     "execution_count": 126,
     "metadata": {},
     "output_type": "execute_result"
    }
   ],
   "source": [
    "np.argsort(random_array)"
   ]
  },
  {
   "cell_type": "code",
   "execution_count": 127,
   "id": "0634fdb2-5b7c-4d48-bca5-19afc1d82a49",
   "metadata": {},
   "outputs": [
    {
     "data": {
      "text/plain": [
       "array([ 1,  8,  9,  2,  4, 12, 11,  6, 10, 13, 14,  5,  3,  7,  0])"
      ]
     },
     "execution_count": 127,
     "metadata": {},
     "output_type": "execute_result"
    }
   ],
   "source": [
    "np.argsort(random_array,axis=None)"
   ]
  },
  {
   "cell_type": "code",
   "execution_count": 128,
   "id": "562e54ca-95e7-4add-970e-d9536d381095",
   "metadata": {},
   "outputs": [
    {
     "data": {
      "text/plain": [
       "np.int64(0)"
      ]
     },
     "execution_count": 128,
     "metadata": {},
     "output_type": "execute_result"
    }
   ],
   "source": [
    "np.argmax(random_array)"
   ]
  },
  {
   "cell_type": "code",
   "execution_count": 129,
   "id": "f6661a09-72f8-40ac-9d42-779939e70bd7",
   "metadata": {},
   "outputs": [
    {
     "data": {
      "text/plain": [
       "array([[9, 0, 1, 7, 1],\n",
       "       [7, 2, 8, 0, 0],\n",
       "       [4, 2, 1, 5, 5]])"
      ]
     },
     "execution_count": 129,
     "metadata": {},
     "output_type": "execute_result"
    }
   ],
   "source": [
    "random_array"
   ]
  },
  {
   "cell_type": "code",
   "execution_count": 130,
   "id": "a09ad48c-150e-47f5-a2bb-049705927936",
   "metadata": {},
   "outputs": [
    {
     "data": {
      "text/plain": [
       "np.int64(1)"
      ]
     },
     "execution_count": 130,
     "metadata": {},
     "output_type": "execute_result"
    }
   ],
   "source": [
    "np.argmin(random_array)"
   ]
  },
  {
   "cell_type": "markdown",
   "id": "cd69ef8a-5249-4b04-bca7-a184770a56ef",
   "metadata": {},
   "source": [
    "## Practical example - Numpy"
   ]
  },
  {
   "cell_type": "code",
   "execution_count": 135,
   "id": "f9a88c43-c47c-465d-b009-601a3b7b626f",
   "metadata": {},
   "outputs": [
    {
     "name": "stdout",
     "output_type": "stream",
     "text": [
      "/bin/bash: -c: line 1: syntax error near unexpected token `\"python.png\"'\n",
      "/bin/bash: -c: line 1: `[title](\"python.png\")'\n"
     ]
    }
   ],
   "source": [
    "![title](\"python.png\")"
   ]
  },
  {
   "cell_type": "code",
   "execution_count": 139,
   "id": "ad8e2215-aab6-4b2d-846f-57fbc653f1c1",
   "metadata": {},
   "outputs": [
    {
     "ename": "SyntaxError",
     "evalue": "invalid syntax (1293100791.py, line 1)",
     "output_type": "error",
     "traceback": [
      "\u001b[0;36m  Cell \u001b[0;32mIn[139], line 1\u001b[0;36m\u001b[0m\n\u001b[0;31m    conda install ipython\u001b[0m\n\u001b[0m          ^\u001b[0m\n\u001b[0;31mSyntaxError\u001b[0m\u001b[0;31m:\u001b[0m invalid syntax\n"
     ]
    }
   ],
   "source": [
    "conda install ipython\n",
    "from Ipython.display import Image\n",
    "image=('python.png')"
   ]
  },
  {
   "cell_type": "code",
   "execution_count": 140,
   "id": "31b8f834-990b-47a4-9797-2b42184dae16",
   "metadata": {},
   "outputs": [],
   "source": [
    "from matplotlib.image import imread\n",
    "python=imread(\"python.png\")"
   ]
  },
  {
   "cell_type": "code",
   "execution_count": 141,
   "id": "7ed2e9e2-412b-4656-bf67-577e13f7f137",
   "metadata": {},
   "outputs": [
    {
     "data": {
      "text/plain": [
       "array([[[1., 1., 1., 1.],\n",
       "        [1., 1., 1., 1.],\n",
       "        [1., 1., 1., 1.],\n",
       "        ...,\n",
       "        [1., 1., 1., 1.],\n",
       "        [1., 1., 1., 1.],\n",
       "        [1., 1., 1., 1.]],\n",
       "\n",
       "       [[1., 1., 1., 1.],\n",
       "        [1., 1., 1., 1.],\n",
       "        [1., 1., 1., 1.],\n",
       "        ...,\n",
       "        [1., 1., 1., 1.],\n",
       "        [1., 1., 1., 1.],\n",
       "        [1., 1., 1., 1.]],\n",
       "\n",
       "       [[1., 1., 1., 1.],\n",
       "        [1., 1., 1., 1.],\n",
       "        [1., 1., 1., 1.],\n",
       "        ...,\n",
       "        [1., 1., 1., 1.],\n",
       "        [1., 1., 1., 1.],\n",
       "        [1., 1., 1., 1.]],\n",
       "\n",
       "       ...,\n",
       "\n",
       "       [[1., 1., 1., 1.],\n",
       "        [1., 1., 1., 1.],\n",
       "        [1., 1., 1., 1.],\n",
       "        ...,\n",
       "        [1., 1., 1., 1.],\n",
       "        [1., 1., 1., 1.],\n",
       "        [1., 1., 1., 1.]],\n",
       "\n",
       "       [[1., 1., 1., 1.],\n",
       "        [1., 1., 1., 1.],\n",
       "        [1., 1., 1., 1.],\n",
       "        ...,\n",
       "        [1., 1., 1., 1.],\n",
       "        [1., 1., 1., 1.],\n",
       "        [1., 1., 1., 1.]],\n",
       "\n",
       "       [[1., 1., 1., 1.],\n",
       "        [1., 1., 1., 1.],\n",
       "        [1., 1., 1., 1.],\n",
       "        ...,\n",
       "        [1., 1., 1., 1.],\n",
       "        [1., 1., 1., 1.],\n",
       "        [1., 1., 1., 1.]]], dtype=float32)"
      ]
     },
     "execution_count": 141,
     "metadata": {},
     "output_type": "execute_result"
    }
   ],
   "source": [
    "python"
   ]
  },
  {
   "cell_type": "code",
   "execution_count": 144,
   "id": "78d08219-e002-4f7e-ac0c-513102dc6291",
   "metadata": {},
   "outputs": [
    {
     "data": {
      "text/plain": [
       "(201600, 3, (168, 300, 4))"
      ]
     },
     "execution_count": 144,
     "metadata": {},
     "output_type": "execute_result"
    }
   ],
   "source": [
    "python.size,python.ndim,python.shape"
   ]
  },
  {
   "cell_type": "markdown",
   "id": "942b5f9f-b42f-4bf7-8e75-ff83b8ac5af9",
   "metadata": {},
   "source": [
    "![alt text here](python.png)"
   ]
  },
  {
   "cell_type": "markdown",
   "id": "c590d275-0845-4737-8010-809f6d83ae70",
   "metadata": {},
   "source": [
    "#### To insert image in the notebook ,first chage the cell into markdowm and use ![alt text](image path)"
   ]
  },
  {
   "cell_type": "code",
   "execution_count": null,
   "id": "14a3e7b8-1264-407d-8b24-f77e4384d9be",
   "metadata": {},
   "outputs": [],
   "source": []
  }
 ],
 "metadata": {
  "kernelspec": {
   "display_name": "Python 3 (ipykernel)",
   "language": "python",
   "name": "python3"
  },
  "language_info": {
   "codemirror_mode": {
    "name": "ipython",
    "version": 3
   },
   "file_extension": ".py",
   "mimetype": "text/x-python",
   "name": "python",
   "nbconvert_exporter": "python",
   "pygments_lexer": "ipython3",
   "version": "3.13.5"
  }
 },
 "nbformat": 4,
 "nbformat_minor": 5
}
